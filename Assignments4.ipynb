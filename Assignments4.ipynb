{
  "nbformat": 4,
  "nbformat_minor": 0,
  "metadata": {
    "colab": {
      "provenance": []
    },
    "kernelspec": {
      "name": "python3",
      "display_name": "Python 3"
    },
    "language_info": {
      "name": "python"
    }
  },
  "cells": [
    {
      "cell_type": "markdown",
      "source": [
        "#Q1.What exactly is []?"
      ],
      "metadata": {
        "id": "77hZn0zjlQqU"
      }
    },
    {
      "cell_type": "code",
      "execution_count": 9,
      "metadata": {
        "colab": {
          "base_uri": "https://localhost:8080/"
        },
        "id": "X6RXsuqukpRa",
        "outputId": "68ddb3d8-0332-4600-fa15-776959f456ea"
      },
      "outputs": [
        {
          "output_type": "execute_result",
          "data": {
            "text/plain": [
              "[]"
            ]
          },
          "metadata": {},
          "execution_count": 9
        }
      ],
      "source": [
        "#the square brackets \"[]\" typically indicate an empty list.A list is a common data structure that allows you to store and organize multiple elements in a sequential manner.\n",
        "my_list = []\n",
        "my_list"
      ]
    },
    {
      "cell_type": "code",
      "source": [
        "#we can add then add elements to the list using various methods, such as the \"append()\" method:\n",
        "my_list.append(1)\n",
        "my_list.append(2)\n",
        "my_list"
      ],
      "metadata": {
        "colab": {
          "base_uri": "https://localhost:8080/"
        },
        "id": "XWv999wNlh1n",
        "outputId": "1f652abe-ae1c-4613-d50b-bd8f41b427e2"
      },
      "execution_count": 10,
      "outputs": [
        {
          "output_type": "execute_result",
          "data": {
            "text/plain": [
              "[1, 2]"
            ]
          },
          "metadata": {},
          "execution_count": 10
        }
      ]
    },
    {
      "cell_type": "markdown",
      "source": [
        "#Q2.In a list of values stored in a variable called spam, how would you assign the value &#39;hello&#39; as the\n",
        "third value? (Assume [2, 4, 6, 8, 10] are in spam.)"
      ],
      "metadata": {
        "id": "FFzzSypYlxpi"
      }
    },
    {
      "cell_type": "code",
      "source": [
        "spam = [2,4,6,8,10]\n",
        "spam"
      ],
      "metadata": {
        "colab": {
          "base_uri": "https://localhost:8080/"
        },
        "id": "-MdA2JrblshT",
        "outputId": "fa6ff742-0f7c-4994-a4b0-a5b690d7a5a6"
      },
      "execution_count": 7,
      "outputs": [
        {
          "output_type": "execute_result",
          "data": {
            "text/plain": [
              "[2, 4, 6, 8, 10]"
            ]
          },
          "metadata": {},
          "execution_count": 7
        }
      ]
    },
    {
      "cell_type": "code",
      "source": [
        "#To assign the value 'hello' as the third value in the list stored in the variable spam,we can use the index of the desired position in the list and assign the new value to that index.\n",
        "spam[2] = \"hello\"\n",
        "spam"
      ],
      "metadata": {
        "colab": {
          "base_uri": "https://localhost:8080/"
        },
        "id": "-YseZ3V-mtTx",
        "outputId": "43f0140a-2037-4c1e-a55a-18ad316c0493"
      },
      "execution_count": 6,
      "outputs": [
        {
          "output_type": "execute_result",
          "data": {
            "text/plain": [
              "[2, 4, 'hello', 8, 10]"
            ]
          },
          "metadata": {},
          "execution_count": 6
        }
      ]
    },
    {
      "cell_type": "markdown",
      "source": [
        "#Q3.What is the value of spam[int(int(&#39;3&#39; * 2) / 11)]?"
      ],
      "metadata": {
        "id": "jBjRbwJRnUyb"
      }
    },
    {
      "cell_type": "code",
      "source": [
        "#'3' * 2 multiplies the string '3' by 2, resulting in the string '33'.\n",
        "spam = '3'*2\n",
        "spam"
      ],
      "metadata": {
        "colab": {
          "base_uri": "https://localhost:8080/",
          "height": 35
        },
        "id": "iWT3VAiWnl0P",
        "outputId": "27cea78f-487b-4194-ce98-70a63b11c6a4"
      },
      "execution_count": 13,
      "outputs": [
        {
          "output_type": "execute_result",
          "data": {
            "text/plain": [
              "'33'"
            ],
            "application/vnd.google.colaboratory.intrinsic+json": {
              "type": "string"
            }
          },
          "metadata": {},
          "execution_count": 13
        }
      ]
    },
    {
      "cell_type": "code",
      "source": [
        "#int('33') converts the string '33' to an integer, which evaluates to 33.\n",
        "int('33')"
      ],
      "metadata": {
        "colab": {
          "base_uri": "https://localhost:8080/"
        },
        "id": "baJXWrUzn4kS",
        "outputId": "1a190e3d-e743-4ae4-86fc-0256384c1485"
      },
      "execution_count": 16,
      "outputs": [
        {
          "output_type": "execute_result",
          "data": {
            "text/plain": [
              "33"
            ]
          },
          "metadata": {},
          "execution_count": 16
        }
      ]
    },
    {
      "cell_type": "code",
      "source": [
        "#int(33 / 11) divides 33 by 11, resulting in 3\n",
        "int(33/11)"
      ],
      "metadata": {
        "colab": {
          "base_uri": "https://localhost:8080/"
        },
        "id": "LUPk31FcoEgI",
        "outputId": "4838a0d9-46ba-4451-a75c-7e470d8ff373"
      },
      "execution_count": 17,
      "outputs": [
        {
          "output_type": "execute_result",
          "data": {
            "text/plain": [
              "3"
            ]
          },
          "metadata": {},
          "execution_count": 17
        }
      ]
    },
    {
      "cell_type": "code",
      "source": [
        "#Finally, spam[3] accesses the element at index 3 in the spam list.\n",
        "spam=[3]"
      ],
      "metadata": {
        "id": "UWgZgPFqoUBH"
      },
      "execution_count": 19,
      "outputs": []
    },
    {
      "cell_type": "code",
      "source": [
        "#Since the list spam is ['a', 'b', 'c', 'd'], the value of spam[int(int('3' * 2) / 11)] would be the element at index 3, which is 'd'.\n",
        "#Therefore, the value of spam[int(int('3' * 2) / 11)] is 'd'"
      ],
      "metadata": {
        "id": "h9r-27SLob1Q"
      },
      "execution_count": null,
      "outputs": []
    },
    {
      "cell_type": "markdown",
      "source": [
        "#Q4.What is the value of spam[-1]?"
      ],
      "metadata": {
        "id": "pPxqmwDYoofY"
      }
    },
    {
      "cell_type": "code",
      "source": [
        "#The value of spam[-1] refers to the last element in the list spam. In this case, the list spam is ['a', 'b', 'c', 'd'], so spam[-1] corresponds to the element at index -1, which is the last element in the list.\n",
        "spam = ['a' , 'b' , 'c' , 'd']\n",
        "spam[-1]"
      ],
      "metadata": {
        "colab": {
          "base_uri": "https://localhost:8080/",
          "height": 35
        },
        "id": "9Ft9SkaOovpM",
        "outputId": "598f6616-67b7-461d-84ed-b84efb939663"
      },
      "execution_count": 22,
      "outputs": [
        {
          "output_type": "execute_result",
          "data": {
            "text/plain": [
              "'d'"
            ],
            "application/vnd.google.colaboratory.intrinsic+json": {
              "type": "string"
            }
          },
          "metadata": {},
          "execution_count": 22
        }
      ]
    },
    {
      "cell_type": "markdown",
      "source": [
        "#Q5.What is the value of spam[:2]?"
      ],
      "metadata": {
        "id": "GqtYEsLWpQCP"
      }
    },
    {
      "cell_type": "code",
      "source": [
        "#The value of spam[:2] represents a sublist that includes all elements from the beginning of the spam list up to, but not including, the element at index 2\n",
        "spam[:2]"
      ],
      "metadata": {
        "colab": {
          "base_uri": "https://localhost:8080/"
        },
        "id": "FDmsrjpuowjv",
        "outputId": "e91ff023-c9ae-428b-ded4-7af56f8f8525"
      },
      "execution_count": 23,
      "outputs": [
        {
          "output_type": "execute_result",
          "data": {
            "text/plain": [
              "['a', 'b']"
            ]
          },
          "metadata": {},
          "execution_count": 23
        }
      ]
    },
    {
      "cell_type": "markdown",
      "source": [
        "#Q6.What is the value of bacon.index(&#39;cat&#39;)?"
      ],
      "metadata": {
        "id": "63P6lOzCpolf"
      }
    },
    {
      "cell_type": "code",
      "source": [
        "#The index() method returns the index of the first occurrence of a specified element in a list. In this case, it will find the index of the first occurrence of the string 'cat' in the list bacon.\n",
        "bacon = [3.14, 'cat', 11, 'cat', True]\n",
        "index = bacon.index('cat')\n",
        "print(index)\n"
      ],
      "metadata": {
        "colab": {
          "base_uri": "https://localhost:8080/"
        },
        "id": "UgMZPVD0owgY",
        "outputId": "1f51750e-21a3-424a-99aa-b0038fb042d2"
      },
      "execution_count": 34,
      "outputs": [
        {
          "output_type": "stream",
          "name": "stdout",
          "text": [
            "1\n"
          ]
        }
      ]
    },
    {
      "cell_type": "markdown",
      "source": [
        "#Q7.How does bacon.append(99) change the look of the list value in bacon?"
      ],
      "metadata": {
        "id": "6YUOOXiorFGx"
      }
    },
    {
      "cell_type": "code",
      "source": [
        "#When we use the append() method on a list, it adds the specified element to the end of the list. In|the case of bacon.append(99), the value 99 will be appended to the list bacon.\n",
        "bacon = [3.14, 'cat', 11, 'cat', True]\n",
        "becon.append(99)\n",
        "print(becon)"
      ],
      "metadata": {
        "colab": {
          "base_uri": "https://localhost:8080/"
        },
        "id": "n-k4QLLEoweF",
        "outputId": "234f777b-b237-4aa8-8531-9e647895c3e9"
      },
      "execution_count": 36,
      "outputs": [
        {
          "output_type": "stream",
          "name": "stdout",
          "text": [
            "[3.14, 'cat', 11, 'cat', True, 99, 99]\n"
          ]
        }
      ]
    },
    {
      "cell_type": "markdown",
      "source": [
        "#Q8.How does bacon.remove(&#39;cat&#39;) change the look of the list in bacon?"
      ],
      "metadata": {
        "id": "EwpU9vH1r0oE"
      }
    },
    {
      "cell_type": "code",
      "source": [
        "#When you use the remove() method on a list, it removes the first occurrence of the specified element from the list. In the case of bacon.remove('cat'), the first occurrence of the string 'cat' will be removed from the list bacon.\n",
        "bacon = [3.14, 'cat', 11, 'cat', True]\n",
        "becon.remove('cat')\n",
        "print(becon)"
      ],
      "metadata": {
        "colab": {
          "base_uri": "https://localhost:8080/"
        },
        "id": "A58VzEfdowbp",
        "outputId": "6bce1328-fed4-4264-ca4b-9d303add0fe1"
      },
      "execution_count": 37,
      "outputs": [
        {
          "output_type": "stream",
          "name": "stdout",
          "text": [
            "[3.14, 11, 'cat', True, 99, 99]\n"
          ]
        }
      ]
    },
    {
      "cell_type": "markdown",
      "source": [
        "#Q9.What are the list concatenation and list replication operators?"
      ],
      "metadata": {
        "id": "9v36B01rsd3z"
      }
    },
    {
      "cell_type": "code",
      "source": [
        "#List Concatenation Operator (+):The list concatenation operator allows you to combine two or more lists into a single list.\n",
        "list1 = [1, 2, 3]\n",
        "list2 = [4, 5, 6]\n",
        "result = list1 + list2\n",
        "print(result)"
      ],
      "metadata": {
        "colab": {
          "base_uri": "https://localhost:8080/"
        },
        "id": "AybccCRvowZP",
        "outputId": "67f801e5-1768-4564-ae3e-0dfb9d5b5a01"
      },
      "execution_count": 38,
      "outputs": [
        {
          "output_type": "stream",
          "name": "stdout",
          "text": [
            "[1, 2, 3, 4, 5, 6]\n"
          ]
        }
      ]
    },
    {
      "cell_type": "code",
      "source": [
        "#List Replication Operator ():The list replication operator allows you to create a new list by replicating an existing list a certain number of times\n",
        "original_list = [1,2,3]\n",
        "replicated_list = original_list *3\n",
        "print(replicated_list)"
      ],
      "metadata": {
        "colab": {
          "base_uri": "https://localhost:8080/"
        },
        "id": "H6mbjGiKowWq",
        "outputId": "d24414bd-5c10-4cbd-b96c-6dd5aa3cb1cc"
      },
      "execution_count": 39,
      "outputs": [
        {
          "output_type": "stream",
          "name": "stdout",
          "text": [
            "[1, 2, 3, 1, 2, 3, 1, 2, 3]\n"
          ]
        }
      ]
    },
    {
      "cell_type": "markdown",
      "source": [
        "#Q10.What is difference between the list methods append() and insert()?"
      ],
      "metadata": {
        "id": "PzxAV05dtkbL"
      }
    },
    {
      "cell_type": "code",
      "source": [
        "#The append() and insert() methods are both used to modify lists  but they have different purposes and behaviors\n",
        "#1.append() The append() method modifies the list in place by adding the element at the end.The append() method is used to add an element at the end of a list.It takes a single argument, which is the element to be added to the list\n",
        "my_list = [1 , 2 , 3]\n",
        "my_list.append(4)\n",
        "print(my_list)"
      ],
      "metadata": {
        "colab": {
          "base_uri": "https://localhost:8080/"
        },
        "id": "gbVmOueUowUM",
        "outputId": "6eb846bd-6f5e-4dcd-8b48-36877bb3ae61"
      },
      "execution_count": 41,
      "outputs": [
        {
          "output_type": "stream",
          "name": "stdout",
          "text": [
            "[1, 2, 3, 4]\n"
          ]
        }
      ]
    },
    {
      "cell_type": "code",
      "source": [
        "#insert():\n",
        "#The insert() method is used to add an element at a specific index in a list.It takes two arguments: the index where the element should be inserted and the element itself.The insert() method modifies the list in place by inserting the element at the specified index.\n",
        "my_list = [1 , 2 , 3]\n",
        "my_list.insert(1,4)\n",
        "print(my_list)"
      ],
      "metadata": {
        "colab": {
          "base_uri": "https://localhost:8080/"
        },
        "id": "m3w3-ZQwowSG",
        "outputId": "b1204c6a-eebe-4f71-9b4b-89681835bd23"
      },
      "execution_count": 43,
      "outputs": [
        {
          "output_type": "stream",
          "name": "stdout",
          "text": [
            "[1, 4, 2, 3]\n"
          ]
        }
      ]
    },
    {
      "cell_type": "markdown",
      "source": [
        "#Q11.What are the two methods for removing items from a list?"
      ],
      "metadata": {
        "id": "jtnTHQw7uzq-"
      }
    },
    {
      "cell_type": "code",
      "source": [
        "#remove() method:\n",
        "#The remove() method is used to remove the first occurrence of a specific value from a list. It takes a single argument, which is the value to be removed from the list.The remove() method modifies the list in place by removing the first occurrence of the specified value.\n",
        "my_list = [1 , 2 , 3 , 4 , 4 , 5 ]\n",
        "my_list.remove(4)\n",
        "print(my_list)"
      ],
      "metadata": {
        "colab": {
          "base_uri": "https://localhost:8080/"
        },
        "id": "ABLsL9bxowPn",
        "outputId": "7a220432-db89-4b8b-e37a-23d50bb4aa61"
      },
      "execution_count": 47,
      "outputs": [
        {
          "output_type": "stream",
          "name": "stdout",
          "text": [
            "[1, 2, 3, 4, 5]\n"
          ]
        }
      ]
    },
    {
      "cell_type": "code",
      "source": [
        "#pop() method:\n",
        "#The pop() method is used to remove an element from a specific index in a listIt takes an optional argument, which is the index of the element to be removed. If no index is specified, it removes the last element from the list.\n",
        "my_list = [1, 2, 3, 4]\n",
        "removed_element = my_list.pop(2)\n",
        "print(my_list)\n",
        "print(removed_element)\n"
      ],
      "metadata": {
        "colab": {
          "base_uri": "https://localhost:8080/"
        },
        "id": "UtfSJEusowNS",
        "outputId": "2772a4f9-5399-4d89-82d5-03bf77572ed3"
      },
      "execution_count": 50,
      "outputs": [
        {
          "output_type": "stream",
          "name": "stdout",
          "text": [
            "[1, 2, 4]\n",
            "3\n"
          ]
        }
      ]
    },
    {
      "cell_type": "markdown",
      "source": [
        "#Q12. Describe how list values and string values are identical."
      ],
      "metadata": {
        "id": "KYXJ2VlzwLAm"
      }
    },
    {
      "cell_type": "code",
      "source": [
        "#Sequential Data:\n",
        "#Both lists and strings are sequential data types, meaning they store collections of values in a specific order. Each element in a list or character in a string has a unique position or index.\n",
        "\n",
        "#Indexing and Slicing:\n",
        "#Both lists and strings can be accessed using index numbers. Indexing allows you to retrieve individual elements or characters from the sequence. Slicing enables you to extract a subsequence by specifying a range of indices.\n",
        "\n",
        "#Iteration:\n",
        "#Lists and strings can be iterated over using loops. You can iterate through each element in a list or character in a string to perform operations or access their values\n",
        "\n",
        "#Length:\n",
        "#Both lists and strings have a length or size that represents the number of elements or characters they contain. The len() function can be used to obtain the length of both data types."
      ],
      "metadata": {
        "id": "0g0nBJiRowK4"
      },
      "execution_count": 51,
      "outputs": []
    },
    {
      "cell_type": "code",
      "source": [
        "#Mutability:\n",
        "#Lists are mutable, meaning their elements can be modified, added, or removed. On the other hand, strings are immutable, which means their characters cannot be changed after they are created\n",
        "\n",
        "#Type of Elements:\n",
        "#Lists can store elements of different data types, allowing for heterogeneity. Strings, on the other hand, store a sequence of characters exclusively.\n",
        "\n",
        "#String-specific Methods and Operations:\n",
        "#Strings have specific methods and operations tailored to string manipulation, such as concatenation (+ operator), splitting, joining, searching for substrings, and more. These operations are not applicable to lists"
      ],
      "metadata": {
        "id": "8glw24IaowIc"
      },
      "execution_count": null,
      "outputs": []
    },
    {
      "cell_type": "markdown",
      "source": [
        "#Q13 What&#39;s the difference between tuples and lists?"
      ],
      "metadata": {
        "id": "NaM6wobRxrfa"
      }
    },
    {
      "cell_type": "code",
      "source": [
        "Mutability:\n",
        "\n",
        "#Lists are mutable, which means their elements can be modified, added, or removed after they are created. You can change, add, or remove elements using methods like append(), insert(), remove(), etc.\n",
        "#Tuples, on the other hand, are immutable, meaning their elements cannot be modified after they are created. Once a tuple is defined, you cannot change its elements. Tuples do not have methods for modifying elements.\n",
        "\n",
        "Syntax:\n",
        "\n",
        "#Lists are defined using square brackets ([]). Elements within a list are separated by commas.\n",
        "#Tuples are defined using parentheses (()). Elements within a tuple are also separated by commas. However, parentheses are optional in some cases.\n",
        "\n",
        "Usage and Purpose:\n",
        "\n",
        "#Lists are commonly used when you need a collection of items that can be modified. They are suitable for situations where you may need to add, remove, or change elements dynamically.\n",
        "#Tuples are typically used when you have a collection of items that should not change. They are suitable for situations where you want to ensure the integrity or immutability of the data.\n",
        "\n",
        "Performance:\n",
        "\n",
        "#Tuples are generally more efficient in terms of performance and consume less memory compared to lists. This is because tuples are immutable, allowing for optimizations in memory usage and faster access to elements.\n",
        "#Lists, being mutable, may require more memory and involve additional overhead for managing modifications.\n",
        "\n",
        "Available Operations:\n",
        "\n",
        "#Lists have a variety of built-in methods for modifying, accessing, and manipulating elements, such as append(), insert(), remove(), pop(), sort(), etc.\n",
        "#Tuples have fewer built-in methods due to their immutability. However, they do support common operations like indexing, slicing, and iteration\n"
      ],
      "metadata": {
        "id": "KYgbrSJ5owGE"
      },
      "execution_count": null,
      "outputs": []
    },
    {
      "cell_type": "markdown",
      "source": [
        "#Q14.How do you type a tuple value that only contains the integer 42?"
      ],
      "metadata": {
        "id": "bBjB_ep8zNWG"
      }
    },
    {
      "cell_type": "code",
      "source": [
        "#To create a tuple value that only contains the integer 42, you can enclose the value in parentheses. Here's how you can type a tuple with the integer 42:\n",
        "my_tuple = {42,}\n",
        "print(my_tuple)"
      ],
      "metadata": {
        "colab": {
          "base_uri": "https://localhost:8080/"
        },
        "id": "mj-1KPfoowEG",
        "outputId": "d20926b4-7449-4220-90ac-31bdd68c83bf"
      },
      "execution_count": 53,
      "outputs": [
        {
          "output_type": "stream",
          "name": "stdout",
          "text": [
            "{42}\n"
          ]
        }
      ]
    },
    {
      "cell_type": "markdown",
      "source": [
        "#Q15.How do you get a list value&#39;s tuple form? How do you get a tuple value&#39;s list form?"
      ],
      "metadata": {
        "id": "MDavYMxdz5yy"
      }
    },
    {
      "cell_type": "code",
      "source": [
        "#To convert a list value into its tuple form, you can use the tuple() function. It takes an iterable (such as a list) as an argument and returns a tuple containing the same elements. Here's an example:\n",
        "my_list = [1 , 2 , 3 , 4 , 5]\n",
        "my_tuple = tuple(my_list)\n",
        "print(my_tuple)"
      ],
      "metadata": {
        "colab": {
          "base_uri": "https://localhost:8080/"
        },
        "id": "s5Hn__ztzzBf",
        "outputId": "a1390ac4-920c-44bb-d4d4-ec5f969fcd8c"
      },
      "execution_count": 55,
      "outputs": [
        {
          "output_type": "stream",
          "name": "stdout",
          "text": [
            "(1, 2, 3, 4, 5)\n"
          ]
        }
      ]
    },
    {
      "cell_type": "code",
      "source": [
        "#Similarly, to convert a tuple value into its list form, you can use the list() function. It takes an iterable (such as a tuple) as an argument and returns a list containing the same elements.\n",
        "my_tuple = (1, 2, 3, 4)\n",
        "my_list = list(my_tuple)\n",
        "print(my_list)"
      ],
      "metadata": {
        "colab": {
          "base_uri": "https://localhost:8080/"
        },
        "id": "jtPRnpPnzy-F",
        "outputId": "f4aea139-f963-4de4-8c47-77e298a7ffff"
      },
      "execution_count": 56,
      "outputs": [
        {
          "output_type": "stream",
          "name": "stdout",
          "text": [
            "[1, 2, 3, 4]\n"
          ]
        }
      ]
    },
    {
      "cell_type": "markdown",
      "source": [
        "#Q16.Variables that &quot;contain&quot; list values are not necessarily lists themselves. Instead, what do they\n",
        "contain?"
      ],
      "metadata": {
        "id": "_dTWOWev3d36"
      }
    },
    {
      "cell_type": "code",
      "source": [
        "#When you assign a list to a variable, the variable holds the memory address of the list object rather than the actual list data. This means that the variable acts as a reference to the list object, allowing you to access and manipulate the list through that variable.\n",
        "my_list = [1, 2, 3]\n",
        "my_list"
      ],
      "metadata": {
        "colab": {
          "base_uri": "https://localhost:8080/"
        },
        "id": "ZThqvxZTzy8J",
        "outputId": "a3aab570-3094-4640-9115-0f38b784a0fd"
      },
      "execution_count": 58,
      "outputs": [
        {
          "output_type": "execute_result",
          "data": {
            "text/plain": [
              "[1, 2, 3]"
            ]
          },
          "metadata": {},
          "execution_count": 58
        }
      ]
    },
    {
      "cell_type": "code",
      "source": [
        "#This reference-based approach has implications when working with mutable objects like lists. If you assign the list to multiple variables or modify the list through one variable, the changes will be reflected in all variables that reference the same list object\n",
        "list1 = [1, 2, 3]\n",
        "list2 = list1  # Both variables refer to the same list object\n",
        "list1.append(4)\n",
        "print(list2)\n"
      ],
      "metadata": {
        "colab": {
          "base_uri": "https://localhost:8080/"
        },
        "id": "SpM5HvrCzy6M",
        "outputId": "d723b4ad-afd7-462c-fde8-ba25592bab57"
      },
      "execution_count": 60,
      "outputs": [
        {
          "output_type": "stream",
          "name": "stdout",
          "text": [
            "[1, 2, 3, 4]\n"
          ]
        }
      ]
    },
    {
      "cell_type": "markdown",
      "source": [
        "#Q17.How do you distinguish between copy.copy() and copy.deepcopy()?"
      ],
      "metadata": {
        "id": "7zsZ5Pwk4QMu"
      }
    },
    {
      "cell_type": "code",
      "source": [
        "# copy.copy():\n",
        "#The copy.copy() function creates a shallow copy of an object.A shallow copy creates a new object with references to the original elements.f the object being copied contains nested objects (like a list of lists), the outer object is copied, but the nested objects are still referenced.\n",
        "import copy\n",
        "\n",
        "original_list = [1, [2, 3]]\n",
        "copied_list = copy.copy(original_list)\n",
        "\n",
        "original_list[0] = 10\n",
        "original_list[1][0] = 20\n",
        "\n",
        "print(original_list)\n",
        "print(copied_list)"
      ],
      "metadata": {
        "colab": {
          "base_uri": "https://localhost:8080/"
        },
        "id": "TAyu5vi1zy4L",
        "outputId": "5aa32e7e-a382-44c4-f2e4-5c817325ca92"
      },
      "execution_count": 61,
      "outputs": [
        {
          "output_type": "stream",
          "name": "stdout",
          "text": [
            "[10, [20, 3]]\n",
            "[1, [20, 3]]\n"
          ]
        }
      ]
    },
    {
      "cell_type": "code",
      "source": [
        "#copy.deepcopy()\n",
        "#The copy.deepcopy() function creates a deep copy of an object.A deep copy creates a new object with completely independent copies of all nested objects.Modifying the nested objects in the deep copy will not affect the original object, and vice versa.\n",
        "import copy\n",
        "\n",
        "original_list = [1, [2, 3]]\n",
        "deep_copied_list = copy.deepcopy(original_list)\n",
        "\n",
        "original_list[0] = 10\n",
        "original_list[1][0] = 20\n",
        "\n",
        "print(original_list)\n",
        "print(deep_copied_list)"
      ],
      "metadata": {
        "colab": {
          "base_uri": "https://localhost:8080/"
        },
        "id": "w6TZ_CL7zy2a",
        "outputId": "534e14d9-8138-4bc6-bd7c-fe0e0a6dc137"
      },
      "execution_count": 62,
      "outputs": [
        {
          "output_type": "stream",
          "name": "stdout",
          "text": [
            "[10, [20, 3]]\n",
            "[1, [2, 3]]\n"
          ]
        }
      ]
    }
  ]
}